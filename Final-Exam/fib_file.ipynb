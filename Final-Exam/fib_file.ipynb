{
 "cells": [
  {
   "cell_type": "code",
   "execution_count": 54,
   "metadata": {
    "collapsed": false
   },
   "outputs": [],
   "source": [
    "filex = open('fibonacci.txt', 'w')\n",
    "filex.write('n'  + '     F_n')\n",
    "\n",
    "    \n",
    "def fib_file(n):\n",
    "\n",
    "    sequence = 0\n",
    "    if(n == 0):\n",
    "        sequence = 0\n",
    "        \n",
    "    elif(n == 1):\n",
    "        sequence = 1\n",
    "    \n",
    "    elif(n > 1):\n",
    "        sequence = fib_file(n) + fib_file(n-1)\n",
    "        \n",
    "    elif(n < 0):\n",
    "        print(\"Error! value must be greater than or equal to 0\")\n",
    "   \n",
    "    for x in range(n):\n",
    "        filex.write(x)\n",
    "        filex.write(\"\\n\")\n",
    "        filex.write(sequence)   \n",
    "filex.close()\n"
   ]
  }
 ],
 "metadata": {
  "kernelspec": {
   "display_name": "Python 2",
   "language": "python",
   "name": "python2"
  },
  "language_info": {
   "codemirror_mode": {
    "name": "ipython",
    "version": 2
   },
   "file_extension": ".py",
   "mimetype": "text/x-python",
   "name": "python",
   "nbconvert_exporter": "python",
   "pygments_lexer": "ipython2",
   "version": "2.7.10"
  }
 },
 "nbformat": 4,
 "nbformat_minor": 0
}
