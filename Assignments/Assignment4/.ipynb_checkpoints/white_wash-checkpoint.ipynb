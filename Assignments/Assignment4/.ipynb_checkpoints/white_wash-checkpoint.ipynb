{
 "cells": [
  {
   "cell_type": "code",
   "execution_count": 4,
   "metadata": {
    "collapsed": false
   },
   "outputs": [
    {
     "name": "stdout",
     "output_type": "stream",
     "text": [
      "Before whitewash\n",
      "[[ 0.89129468  0.05633427  0.02117705]\n",
      " [ 0.36024001  0.19633529  0.09961232]\n",
      " [ 0.82889063  0.21986829  0.30268071]]\n",
      "After whitewash\n",
      "[[ 0.94564734  0.52816714  0.51058852]\n",
      " [ 0.68012     0.59816764  0.54980616]\n",
      " [ 0.91444531  0.60993414  0.65134036]]\n"
     ]
    }
   ],
   "source": [
    "import numpy as np\n",
    "import matplotlib.pyplot as plt\n",
    "import random\n",
    "\n",
    "\n",
    "n = 3\n",
    "a = np.arange(n*3.0).reshape(n,3)\n",
    "a.reshape(n,3)\n",
    "\n",
    "for x in range(0,n):\n",
    "    for y in range(0,3):\n",
    "        a[x][y]=random.random()\n",
    "\n",
    "print(\"Before whitewash\")\n",
    "print(a)\n",
    "\n",
    "def whitewash(x):\n",
    "\n",
    "    for x in range(0,n):\n",
    "        for y in range(0,3):\n",
    "            a[x][y]= (a[x][y] + 1)/2\n",
    "    \n",
    "    print(\"After whitewash\")\n",
    "    print(a)\n",
    "    plt.imshow(a,origin=\"lower\",cmap='gray',interpolation='nearest')\n",
    "    plt.show()\n",
    "    return\n",
    "\n",
    "\n",
    "whitewash(a)\n"
   ]
  },
  {
   "cell_type": "code",
   "execution_count": null,
   "metadata": {
    "collapsed": true
   },
   "outputs": [],
   "source": []
  },
  {
   "cell_type": "code",
   "execution_count": null,
   "metadata": {
    "collapsed": true
   },
   "outputs": [],
   "source": []
  },
  {
   "cell_type": "code",
   "execution_count": null,
   "metadata": {
    "collapsed": true
   },
   "outputs": [],
   "source": []
  }
 ],
 "metadata": {
  "kernelspec": {
   "display_name": "Python 2",
   "language": "python",
   "name": "python2"
  },
  "language_info": {
   "codemirror_mode": {
    "name": "ipython",
    "version": 2
   },
   "file_extension": ".py",
   "mimetype": "text/x-python",
   "name": "python",
   "nbconvert_exporter": "python",
   "pygments_lexer": "ipython2",
   "version": "2.7.10"
  }
 },
 "nbformat": 4,
 "nbformat_minor": 0
}
