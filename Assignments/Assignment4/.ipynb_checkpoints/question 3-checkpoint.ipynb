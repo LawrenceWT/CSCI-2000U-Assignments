{
 "cells": [
  {
   "cell_type": "code",
   "execution_count": 3,
   "metadata": {
    "collapsed": false
   },
   "outputs": [
    {
     "ename": "NameError",
     "evalue": "name 'p' is not defined",
     "output_type": "error",
     "traceback": [
      "\u001b[1;31m---------------------------------------------------------------------------\u001b[0m",
      "\u001b[1;31mNameError\u001b[0m                                 Traceback (most recent call last)",
      "\u001b[1;32m<ipython-input-3-038d6aeaff64>\u001b[0m in \u001b[0;36m<module>\u001b[1;34m()\u001b[0m\n\u001b[0;32m     45\u001b[0m                   edgecolors = P['color'], facecolors='None', zorder=10)\n\u001b[0;32m     46\u001b[0m \u001b[1;33m\u001b[0m\u001b[0m\n\u001b[1;32m---> 47\u001b[1;33m \u001b[0mplt\u001b[0m\u001b[1;33m.\u001b[0m\u001b[0mshow\u001b[0m\u001b[1;33m(\u001b[0m\u001b[0mp\u001b[0m\u001b[1;33m)\u001b[0m\u001b[1;33m\u001b[0m\u001b[0m\n\u001b[0m\u001b[0;32m     48\u001b[0m \u001b[1;33m\u001b[0m\u001b[0m\n\u001b[0;32m     49\u001b[0m \u001b[1;33m\u001b[0m\u001b[0m\n",
      "\u001b[1;31mNameError\u001b[0m: name 'p' is not defined"
     ]
    }
   ],
   "source": [
    "import urllib\n",
    "import numpy as np\n",
    "import matplotlib.pyplot as plt\n",
    "from mpl_toolkits.basemap import Basemap\n",
    "\n",
    "\n",
    "# -> http://earthquake.usgs.gov/earthquakes/feed/v1.0/csv.php\n",
    "feed = \"http://earthquake.usgs.gov/earthquakes/feed/v1.0/summary/\"\n",
    "\n",
    "# Significant earthquakes in the last 30 days\n",
    "# url = urllib.request.urlopen(feed + \"significant_month.csv\")\n",
    "\n",
    "# Magnitude > 4.5\n",
    "# url = urllib.request.urlopen(feed + \"4.5_month.csv\")\n",
    "\n",
    "# Magnitude > 2.5\n",
    "#url = urllib.request.urlopen(feed + \"2.5_month.csv\")\n",
    "\n",
    "# Magnitude > 1.0\n",
    "url = urllib.urlopen(feed + \"1.0_month.csv\")\n",
    "\n",
    "# Reading and storage of data\n",
    "data = url.read().split(b'\\n')[+1:-1]\n",
    "E = np.zeros(len(data), dtype=[('position',  float, 2),\n",
    "                               ('magnitude', float, 1)])\n",
    "\n",
    "for i in range(len(data)):\n",
    "    row = data[i].split(b',')\n",
    "    E['position'][i] = float(row[2]),float(row[1])\n",
    "    E['magnitude'][i] = float(row[4])\n",
    "\n",
    "fig = plt.figure(figsize=(14,10))\n",
    "ax = plt.subplot(1,1,1)\n",
    "\n",
    "earth = Basemap(projection='mill')\n",
    "\n",
    "earth.drawcoastlines(color='0.50', linewidth=0.25)\n",
    "earth.fillcontinents(color='0.95')\n",
    "\n",
    "P = np.zeros(50, dtype=[('position', float, 2),\n",
    "                         ('size',     float, 1),\n",
    "                         ('growth',   float, 1),\n",
    "                         ('color',    float, 4)])\n",
    "scat = ax.scatter(P['position'][:,0], P['position'][:,1], P['size'], lw=0.5,\n",
    "                  edgecolors = P['color'], facecolors='None', zorder=10)\n",
    "\n",
    "plt.show(P)\n",
    "\n",
    "\n"
   ]
  },
  {
   "cell_type": "code",
   "execution_count": null,
   "metadata": {
    "collapsed": true
   },
   "outputs": [],
   "source": []
  }
 ],
 "metadata": {
  "kernelspec": {
   "display_name": "Python 2",
   "language": "python",
   "name": "python2"
  },
  "language_info": {
   "codemirror_mode": {
    "name": "ipython",
    "version": 2
   },
   "file_extension": ".py",
   "mimetype": "text/x-python",
   "name": "python",
   "nbconvert_exporter": "python",
   "pygments_lexer": "ipython2",
   "version": "2.7.10"
  }
 },
 "nbformat": 4,
 "nbformat_minor": 0
}
