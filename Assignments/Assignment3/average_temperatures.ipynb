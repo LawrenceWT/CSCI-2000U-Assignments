{
 "cells": [
  {
   "cell_type": "code",
   "execution_count": 57,
   "metadata": {
    "collapsed": false
   },
   "outputs": [],
   "source": [
    "#Including the necessary imports to allow for plotting\n",
    "import numpy as np\n",
    "import matplotlib.pyplot as plt \n",
    "\n",
    "\n",
    "\n",
    "#Takes in the data from the three text files \n",
    "Toronto_Data = np.loadtxt('toronto_temperature_2012.dat')\n",
    "Montreal_Data = np.loadtxt('montreal_temperature_2012.dat')\n",
    "Vancouver_Data = np.loadtxt('vancouver_temperature_2012.dat')\n",
    "\n",
    "#Creates two arrays, one to hold the numerical month data, and the other to hold the name of each month\n",
    "Months = [1,2,3,4,5,6,7,8,9,10,11,12]\n",
    "mLabel = ['Jan', 'Feb', 'Mar', 'Apr', 'May', 'Jun', 'Jul', 'Aug', 'Sep', 'Oct', 'Nov', 'Dec']\n",
    "\n",
    "#Sets up the axis to contain the information within the constraints of the data\n",
    "plt.axis([1,12,-30,30])\n",
    "#creates the x and y labels respectively\n",
    "plt.xlabel('Months')\n",
    "plt.ylabel('Average Temperature')\n",
    "#Displays the data for toronot as red dots connected through a line\n",
    "plt.plot(Months, Toronto_Data, 'rd-', label='Toronto')\n",
    "#Displays the data for montreal as blue stars connected through a line\n",
    "plt.plot(Months, Montreal_Data, 'b*-', label='Montreal')\n",
    "#Displays the data for vancouver as green squares connected through a line\n",
    "plt.plot(Months, Vancouver_Data, 'gs-', label='Vancouver')\n",
    "#Sets up the legend for the graph\n",
    "plt.xticks(Months,mLabel)\n",
    "#creates the title for the graph\n",
    "plt.title('2012 Average Monthly Temperatures 100525928')\n",
    "plt.legend(loc='lower left')\n",
    "\n",
    "plt.show()\n"
   ]
  },
  {
   "cell_type": "code",
   "execution_count": null,
   "metadata": {
    "collapsed": true
   },
   "outputs": [],
   "source": []
  },
  {
   "cell_type": "code",
   "execution_count": null,
   "metadata": {
    "collapsed": true
   },
   "outputs": [],
   "source": []
  },
  {
   "cell_type": "code",
   "execution_count": null,
   "metadata": {
    "collapsed": true
   },
   "outputs": [],
   "source": []
  },
  {
   "cell_type": "code",
   "execution_count": null,
   "metadata": {
    "collapsed": true
   },
   "outputs": [],
   "source": []
  },
  {
   "cell_type": "code",
   "execution_count": null,
   "metadata": {
    "collapsed": true
   },
   "outputs": [],
   "source": []
  },
  {
   "cell_type": "code",
   "execution_count": null,
   "metadata": {
    "collapsed": true
   },
   "outputs": [],
   "source": []
  }
 ],
 "metadata": {
  "kernelspec": {
   "display_name": "Python 2",
   "language": "python",
   "name": "python2"
  },
  "language_info": {
   "codemirror_mode": {
    "name": "ipython",
    "version": 2
   },
   "file_extension": ".py",
   "mimetype": "text/x-python",
   "name": "python",
   "nbconvert_exporter": "python",
   "pygments_lexer": "ipython2",
   "version": "2.7.10"
  }
 },
 "nbformat": 4,
 "nbformat_minor": 0
}
