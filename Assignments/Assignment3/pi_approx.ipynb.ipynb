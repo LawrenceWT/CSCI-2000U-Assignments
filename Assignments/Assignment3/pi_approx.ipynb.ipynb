{
 "metadata": {
  "name": ""
 },
 "nbformat": 3,
 "nbformat_minor": 0,
 "worksheets": [
  {
   "cells": [
    {
     "cell_type": "code",
     "collapsed": false,
     "input": [
      "#This is the Rho summation\n",
      "def Rho_Sum(value):\n",
      "    total = 0\n",
      "    index = 1\n",
      "    #While the index is less than the value, the program will continue to add the total\n",
      "    while(index <= value):\n",
      "        total = total + (4*(((-1)**(index+1))/((2*index)-1)))\n",
      "        index = index + 1\n",
      "    print(\"when n = \", value, \", rho_n = \", total)\n",
      "   \n",
      "\n",
      "\n",
      "\n",
      "Rho_Sum(10)\n",
      "Rho_Sum(100)\n",
      "Rho_Sum(1000)\n",
      "Rho_Sum(10000)\n",
      "Rho_Sum(100000)\n",
      "Rho_Sum(1000000)\n",
      "\n",
      "\n",
      "#This is the Tau summation\n",
      "def Tau_Sum(value):\n",
      "    total = 0\n",
      "    index = 1 \n",
      "    #While the index is less than the value, the program will continue to add the total the summation \n",
      "    while(index <= value):\n",
      "        total = total + 1/(index**2)\n",
      "        index = index + 1\n",
      "    #After the summation is complete, the function then multiplies the total by 6 and then takes that value and powers is by 1/2    \n",
      "    total = (total* 6) ** 0.5\n",
      "    print(\"when n = \", value, \", tau_n = \", total)\n",
      "        \n",
      "\n",
      "\n",
      "Tau_Sum(10)\n",
      "Tau_Sum(100)\n",
      "Tau_Sum(1000)\n",
      "Tau_Sum(10000)\n",
      "Tau_Sum(100000)\n",
      "Tau_Sum(1000000)\n",
      "\n",
      "\n",
      "#This is the Mu summation\n",
      "def Mu_Sum(value):\n",
      "    total = 0\n",
      "    index = 1\n",
      "     #While the index is less than the value, the program will continue to add the total the summation \n",
      "    while(index <= value):\n",
      "        total = total + 1/(index**4)\n",
      "        index = index + 1\n",
      "    #After the summation is complete, the total is then mulitplied by 90, and then powered by 1/4\n",
      "    total = (total * 90) ** 0.25\n",
      "    print(\"when n = \", value, \", Mu_n = \", total)\n",
      "\n",
      "Mu_Sum(10)\n",
      "Mu_Sum(100)\n",
      "Mu_Sum(1000)\n",
      "Mu_Sum(10000)\n",
      "Mu_Sum(100000)\n",
      "Mu_Sum(1000000)"
     ],
     "language": "python",
     "metadata": {},
     "outputs": [
      {
       "output_type": "stream",
       "stream": "stdout",
       "text": [
        "when n =  10 , rho_n =  3.0418396189294032\n",
        "when n =  100 , rho_n =  3.1315929035585537\n",
        "when n =  1000 , rho_n =  3.140592653839794\n",
        "when n =  10000 , rho_n =  3.1414926535900345\n",
        "when n = "
       ]
      },
      {
       "output_type": "stream",
       "stream": "stdout",
       "text": [
        " 100000 , rho_n =  3.1415826535897198\n",
        "when n =  10 , tau_n =  3.04936163598207\n",
        "when n =  100 , tau_n =  3.1320765318091053\n",
        "when n =  1000 , tau_n =  3.1406380562059946\n",
        "when n =  10000 , tau_n =  3.1414971639472147\n",
        "when n =  100000 , tau_n =  3.141583104326456\n",
        "when n =  10 , Mu_n =  3.1413846224669713\n",
        "when n =  100 , Mu_n =  3.1415924153073678\n",
        "when n =  1000 , Mu_n =  3.1415926533482703\n",
        "when n =  10000 , Mu_n =  3.141592653589592\n",
        "when n = "
       ]
      },
      {
       "output_type": "stream",
       "stream": "stdout",
       "text": [
        " 100000 , Mu_n =  3.141592653589592\n"
       ]
      }
     ],
     "prompt_number": 3
    },
    {
     "cell_type": "code",
     "collapsed": false,
     "input": [],
     "language": "python",
     "metadata": {},
     "outputs": [],
     "prompt_number": 1
    },
    {
     "cell_type": "code",
     "collapsed": false,
     "input": [],
     "language": "python",
     "metadata": {},
     "outputs": [],
     "prompt_number": 13
    },
    {
     "cell_type": "code",
     "collapsed": false,
     "input": [],
     "language": "python",
     "metadata": {},
     "outputs": [],
     "prompt_number": 13
    },
    {
     "cell_type": "code",
     "collapsed": false,
     "input": [],
     "language": "python",
     "metadata": {},
     "outputs": [],
     "prompt_number": 13
    },
    {
     "cell_type": "code",
     "collapsed": false,
     "input": [],
     "language": "python",
     "metadata": {},
     "outputs": [],
     "prompt_number": 13
    },
    {
     "cell_type": "code",
     "collapsed": false,
     "input": [],
     "language": "python",
     "metadata": {},
     "outputs": [],
     "prompt_number": 13
    },
    {
     "cell_type": "code",
     "collapsed": false,
     "input": [],
     "language": "python",
     "metadata": {},
     "outputs": []
    }
   ],
   "metadata": {}
  }
 ]
}