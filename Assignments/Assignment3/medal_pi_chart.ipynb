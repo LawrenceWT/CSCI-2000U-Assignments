{
 "cells": [
  {
   "cell_type": "code",
   "execution_count": 4,
   "metadata": {
    "collapsed": false
   },
   "outputs": [],
   "source": [
    "#include the matplotlib class which allows us to make and display graphs\n",
    "import matplotlib.pyplot as plt\n",
    "\n",
    "#Makes three arrays to hold the country name, the number of medals they made, and their colour respectively\n",
    "Countries = ['USA', 'CHN', 'GBR', 'RUS', 'KOR', 'GER', 'FRA', 'ITA', 'HUN', 'AUS', 'OTHER']\n",
    "Medals = [46, 38, 29, 24, 13, 11, 11, 8, 8, 7, 107]\n",
    "Colours = ['#004080', '#00cc00', '#77b300', '#ffbf00', '#cc3300', '#cc0066', '#cc00ff', '#6600ff', '#4dffff', '#ffff1a', '#ffffff']\n",
    "\n",
    "#creates a pie chart with the information from the arrays Countries, Medals, and Colours\n",
    "plt.pie(Medals, explode=None, labels=Countries, colors = Colours)\n",
    "plt.title('2012 Olympic Gold Medals 100525928')\n",
    "\n",
    "plt.show()"
   ]
  },
  {
   "cell_type": "code",
   "execution_count": null,
   "metadata": {
    "collapsed": true
   },
   "outputs": [],
   "source": []
  },
  {
   "cell_type": "code",
   "execution_count": null,
   "metadata": {
    "collapsed": true
   },
   "outputs": [],
   "source": []
  }
 ],
 "metadata": {
  "kernelspec": {
   "display_name": "Python 2",
   "language": "python",
   "name": "python2"
  },
  "language_info": {
   "codemirror_mode": {
    "name": "ipython",
    "version": 2
   },
   "file_extension": ".py",
   "mimetype": "text/x-python",
   "name": "python",
   "nbconvert_exporter": "python",
   "pygments_lexer": "ipython2",
   "version": "2.7.10"
  }
 },
 "nbformat": 4,
 "nbformat_minor": 0
}
